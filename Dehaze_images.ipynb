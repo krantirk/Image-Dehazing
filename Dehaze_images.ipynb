{
 "cells": [
  {
   "cell_type": "code",
   "execution_count": null,
   "metadata": {},
   "outputs": [],
   "source": [
    "import cv2\n",
    "import numpy as np\n",
    "import matplotlib.pyplot as plt"
   ]
  },
  {
   "cell_type": "markdown",
   "metadata": {},
   "source": [
    "# Calculate Dark Channel"
   ]
  },
  {
   "cell_type": "code",
   "execution_count": null,
   "metadata": {},
   "outputs": [],
   "source": [
    "def get_dark_channel(img, wind_size):\n",
    "    dark_channel = np.zeros((img.shape[0], img.shape[1]))\n",
    "    img = cv2.copyMakeBorder(img,wind_size//2,wind_size//2,wind_size//2,wind_size//2,cv2.BORDER_CONSTANT,value=[255,255,255])    \n",
    "    no_rows = img.shape[0]\n",
    "    no_cols = img.shape[1]\n",
    "    min_channel = np.zeros((no_rows, no_cols))\n",
    "    for row in range(no_rows):\n",
    "        for col in range(no_cols):\n",
    "            min_channel[row-wind_size//2][col-wind_size//2] = np.min(img[row,col,:])\n",
    "    for row in range(wind_size//2, no_rows-wind_size//2):\n",
    "        for col in range(wind_size//2, no_cols-wind_size//2):\n",
    "            dark_channel[row-wind_size//2][col-wind_size//2] = np.min(min_channel[row-wind_size//2:row+wind_size//2,col-wind_size//2:col+wind_size//2])\n",
    "    return dark_channel"
   ]
  },
  {
   "cell_type": "code",
   "execution_count": null,
   "metadata": {},
   "outputs": [],
   "source": [
    "# img = cv2.imread(\"Dataset/I-HAZY/hazy/07_indoor_hazy.jpg\")\n",
    "# img = cv2.resize(img,(0,0),fx=0.25,fy=0.25)\n",
    "# plt.imshow(img[...,::-1])\n",
    "# plt.show()\n",
    "# dark_channel_img = get_dark_channel(img, 15)\n",
    "# plt.imshow(dark_channel_img,'gray')\n",
    "# plt.show()\n",
    "img = cv2.imread(\"Dataset/Other/1.png\")\n",
    "img = cv2.resize(img,(0,0),fx=0.5,fy=0.5)\n",
    "\n",
    "plt.figure(figsize=(10,10))\n",
    "plt.imshow(img[...,::-1])\n",
    "plt.show()\n",
    "dark_channel_img = get_dark_channel(img, 15)\n",
    "dark_channel_img = dark_channel_img.astype('uint8')\n",
    "plt.figure(figsize=(10,10))\n",
    "plt.imshow(dark_channel_img,'gray')\n",
    "plt.show()"
   ]
  },
  {
   "cell_type": "markdown",
   "metadata": {},
   "source": [
    "# Estimate Atmospheric Light"
   ]
  },
  {
   "cell_type": "code",
   "execution_count": null,
   "metadata": {},
   "outputs": [],
   "source": [
    "def get_atm_light(im, dark_channel_img):\n",
    "    img = im.copy()\n",
    "    num_pixels = dark_channel_img.size\n",
    "    num_brightest = num_pixels//1000\n",
    "    haze_density_sort_idx = np.argsort(dark_channel_img,axis=None)[::-1]\n",
    "    brightest = haze_density_sort_idx[0:num_brightest]\n",
    "    brightest = np.unravel_index(brightest,dark_channel_img.shape)\n",
    "    brightest_pixels = img[brightest]\n",
    "    top_intensities = np.average(brightest_pixels, axis=1)\n",
    "    max_intensity = np.argmax(top_intensities)\n",
    "    A = brightest_pixels[max_intensity]\n",
    "    img[brightest]=[255,0,0]\n",
    "    row_min = np.min(brightest[0])\n",
    "    row_max = np.max(brightest[0])\n",
    "    col_min = np.min(brightest[1])\n",
    "    col_max = np.max(brightest[1])\n",
    "    cv2.rectangle(img, (col_min,row_min),(col_max,row_max),(0,0,255),thickness=2)\n",
    "    plt.figure(figsize=(10,10))\n",
    "    plt.imshow(img[...,::-1])\n",
    "    plt.show()\n",
    "    return A"
   ]
  },
  {
   "cell_type": "code",
   "execution_count": null,
   "metadata": {},
   "outputs": [],
   "source": [
    "atm_light = get_atm_light(img,dark_channel_img)"
   ]
  },
  {
   "cell_type": "markdown",
   "metadata": {},
   "source": [
    "# Estimate Transmission"
   ]
  },
  {
   "cell_type": "code",
   "execution_count": null,
   "metadata": {},
   "outputs": [],
   "source": [
    "t_bar = get_dark_channel(img/atm_light,15)\n",
    "trans_bar = 1-(0.85*t_bar)\n",
    "plt.figure(figsize=(10,10))\n",
    "plt.imshow(trans_bar,'gray')\n",
    "plt.show()"
   ]
  },
  {
   "cell_type": "markdown",
   "metadata": {},
   "source": [
    "# Transmission Refinement"
   ]
  },
  {
   "cell_type": "code",
   "execution_count": null,
   "metadata": {},
   "outputs": [],
   "source": [
    "def refine(img, transmission, radius, epsilon):\n",
    "    mean_guide = cv2.blur(img,(radius,radius))\n",
    "    mean_trans = cv2.blur(transmission,(radius,radius))\n",
    "    mean_gt = cv2.blur(img * transmission, (radius,radius))\n",
    "    \n",
    "    a = mean_gt - mean_guide * mean_trans\n",
    "    var_guide = cv2.blur(img * img,(radius,radius)) - (mean_guide * mean_guide)\n",
    "    a = a/(var_guide + epsilon)\n",
    "    b = mean_trans - a * mean_guide\n",
    "\n",
    "    q = cv2.blur(a,(radius,radius)) * img + cv2.blur(b,(radius,radius))\n",
    "    return q"
   ]
  },
  {
   "cell_type": "code",
   "execution_count": null,
   "metadata": {},
   "outputs": [],
   "source": [
    "i=cv2.cvtColor(img,cv2.COLOR_BGR2GRAY)/255\n",
    "t_refine = refine(i, trans_bar, 30, 0.0001)\n",
    "plt.figure(figsize=(10,10))\n",
    "plt.imshow(t_refine,'gray')\n",
    "plt.show()"
   ]
  },
  {
   "cell_type": "markdown",
   "metadata": {},
   "source": [
    "# Depth Map"
   ]
  },
  {
   "cell_type": "code",
   "execution_count": null,
   "metadata": {},
   "outputs": [],
   "source": [
    "def depth_map(t_refine, beta):\n",
    "    return (-np.log(t_refine)/beta)"
   ]
  },
  {
   "cell_type": "code",
   "execution_count": null,
   "metadata": {},
   "outputs": [],
   "source": [
    "plt.figure(figsize=(10,10))\n",
    "plt.imshow(depth_map(t_refine, 1),'hot')\n",
    "plt.colorbar()\n",
    "plt.show()"
   ]
  },
  {
   "cell_type": "markdown",
   "metadata": {},
   "source": [
    "# Recovering the Image"
   ]
  },
  {
   "cell_type": "code",
   "execution_count": null,
   "metadata": {},
   "outputs": [],
   "source": [
    "def recover_image(img, trans_bar, atm_light, t0):\n",
    "    trans_recover = np.copy(trans_bar)\n",
    "    trans_recover[trans_recover < t0] = t0\n",
    "    J = np.zeros((img.shape))\n",
    "    J[:,:,0] = ((img[:,:,0] - atm_light[0])/trans_recover) + atm_light[0]\n",
    "    J[:,:,1] = ((img[:,:,1] - atm_light[1])/trans_recover) + atm_light[1]\n",
    "    J[:,:,2] = ((img[:,:,2] - atm_light[2])/trans_recover) + atm_light[2]\n",
    "    return J"
   ]
  },
  {
   "cell_type": "code",
   "execution_count": null,
   "metadata": {},
   "outputs": [],
   "source": [
    "im = img.astype(\"double\")\n",
    "J = recover_image(im, t_refine, atm_light, 0.1)\n",
    "J = ((J-np.min(J))/(np.max(J)-np.min(J)))*255\n",
    "plt.figure(figsize=(10,10))\n",
    "plt.imshow((np.uint8(J[...,::-1])))\n",
    "plt.show()"
   ]
  },
  {
   "cell_type": "markdown",
   "metadata": {},
   "source": [
    "# Color Balancing"
   ]
  },
  {
   "cell_type": "code",
   "execution_count": null,
   "metadata": {},
   "outputs": [],
   "source": [
    "def color_balance(img, s):\n",
    "    out = np.copy(img)\n",
    "    hist = np.zeros((256,1))\n",
    "    no_of_pixels = img.shape[0] * img.shape[1]\n",
    "    for i in range(3):\n",
    "        channel_vals = img[:,:,i]\n",
    "        for pixel_val in range(256):\n",
    "            hist[pixel_val] = np.sum((channel_vals == pixel_val)) \n",
    "        for pixel_val in range(256):\n",
    "            hist[pixel_val] = hist[pixel_val-1] + hist[pixel_val]\n",
    "        Vmin = 0\n",
    "        while (Vmin < 255 and hist[Vmin] <= no_of_pixels*s):\n",
    "            Vmin += 1\n",
    "        Vmax = 255\n",
    "        while (Vmax > 0 and hist[Vmax] > no_of_pixels*(1-s)):\n",
    "            Vmax -= 1\n",
    "        channel_vals[channel_vals < Vmin] = Vmin\n",
    "        channel_vals[channel_vals > Vmax] = Vmax\n",
    "        out[:,:,i] = cv2.normalize(channel_vals, channel_vals.copy(), 0, 255, cv2.NORM_MINMAX)\n",
    "    return out"
   ]
  },
  {
   "cell_type": "code",
   "execution_count": null,
   "metadata": {
    "scrolled": false
   },
   "outputs": [],
   "source": [
    "plt.figure(figsize=(10,10))\n",
    "plt.imshow((np.uint8(J[...,::-1])))\n",
    "plt.show()\n",
    "cb_J = color_balance(np.uint8(J),0.005)\n",
    "plt.figure(figsize=(10,10))\n",
    "plt.imshow((np.uint8(cb_J[...,::-1])))\n",
    "plt.show()"
   ]
  },
  {
   "cell_type": "markdown",
   "metadata": {},
   "source": [
    "# Compare with Histogram Equalization"
   ]
  },
  {
   "cell_type": "code",
   "execution_count": null,
   "metadata": {},
   "outputs": [],
   "source": [
    "def histEqual(im):\n",
    "    ycrcb = cv2.cvtColor(im, cv2.COLOR_BGR2YCrCb)\n",
    "    ycrcb[:,:,0] = cv2.equalizeHist(ycrcb[:,:,0])\n",
    "    restored = cv2.cvtColor(ycrcb, cv2.COLOR_YCrCb2BGR)\n",
    "    return restored"
   ]
  },
  {
   "cell_type": "code",
   "execution_count": null,
   "metadata": {},
   "outputs": [],
   "source": [
    "J = histEqual(cv2.imread(\"Dataset/Other/1.png\"))\n",
    "fig=plt.figure(figsize=(15,10))\n",
    "ax=fig.add_subplot(121)\n",
    "ax.imshow(J[...,::-1])\n",
    "ax.set_title(\"Output from Histogram Equalization\")\n",
    "ax.axis('off')\n",
    "ax=fig.add_subplot(122)\n",
    "ax.imshow(cb_J[...,::-1])\n",
    "ax.set_title(\"Output from Dark Channel Method\")\n",
    "ax.axis('off')\n",
    "plt.show()"
   ]
  }
 ],
 "metadata": {
  "kernelspec": {
   "display_name": "Python 3",
   "language": "python3",
   "name": "python3"
  },
  "language_info": {
   "codemirror_mode": {
    "name": "ipython",
    "version": 3
   },
   "file_extension": ".py",
   "mimetype": "text/x-python",
   "name": "python",
   "nbconvert_exporter": "python",
   "pygments_lexer": "ipython3",
   "version": "3.5.2"
  }
 },
 "nbformat": 4,
 "nbformat_minor": 2
}
